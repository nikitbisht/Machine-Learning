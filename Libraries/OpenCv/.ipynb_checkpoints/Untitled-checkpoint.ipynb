{
 "cells": [
  {
   "cell_type": "code",
   "execution_count": 4,
   "id": "e847d9a3-014d-4489-bced-01e4872e36ac",
   "metadata": {},
   "outputs": [],
   "source": [
    "import numpy as np\n",
    "import cv2"
   ]
  },
  {
   "cell_type": "code",
   "execution_count": 8,
   "id": "64dd0ac3-7583-4a5b-84e4-3429315c1780",
   "metadata": {},
   "outputs": [],
   "source": [
    "img = cv2.imread('fruits.jpg')"
   ]
  },
  {
   "cell_type": "code",
   "execution_count": 19,
   "id": "4f867376-354d-4ff9-9144-1b5d3d61872d",
   "metadata": {},
   "outputs": [
    {
     "data": {
      "text/plain": [
       "numpy.ndarray"
      ]
     },
     "execution_count": 19,
     "metadata": {},
     "output_type": "execute_result"
    }
   ],
   "source": [
    "type(img)"
   ]
  },
  {
   "cell_type": "code",
   "execution_count": 20,
   "id": "42367130-53e5-4033-859c-2b152e15a0c4",
   "metadata": {},
   "outputs": [
    {
     "data": {
      "text/plain": [
       "(183, 275, 3)"
      ]
     },
     "execution_count": 20,
     "metadata": {},
     "output_type": "execute_result"
    }
   ],
   "source": [
    "img.shape"
   ]
  },
  {
   "cell_type": "code",
   "execution_count": 21,
   "id": "0fd85998-739c-49c3-9b02-bd84b993173f",
   "metadata": {},
   "outputs": [
    {
     "data": {
      "text/plain": [
       "13"
      ]
     },
     "execution_count": 21,
     "metadata": {},
     "output_type": "execute_result"
    }
   ],
   "source": [
    "cv2.imshow('Window',img)\n",
    "cv2.waitKey(0)"
   ]
  },
  {
   "cell_type": "code",
   "execution_count": null,
   "id": "cd436fc4-301f-4538-ad5b-6a88962b6bef",
   "metadata": {},
   "outputs": [],
   "source": [
    "img_gray=cv2.cvtColor(img,cv2.COLOR_BGR2GRAY)"
   ]
  },
  {
   "cell_type": "code",
   "execution_count": 1,
   "id": "3a84f2e5-0e03-48f7-ab5b-4019e96265ff",
   "metadata": {},
   "outputs": [],
   "source": [
    "def printImg(window,img):\n",
    "    cv2.imshow(window,img)\n",
    "    cv2.waitKey(0)"
   ]
  },
  {
   "cell_type": "code",
   "execution_count": 6,
   "id": "2b9beda5-64bd-4d5a-a50b-4f2a79fc08a9",
   "metadata": {},
   "outputs": [],
   "source": [
    "img[:,:,1]=0"
   ]
  },
  {
   "cell_type": "code",
   "execution_count": 7,
   "id": "f1a84c74-9014-435d-b508-d521370d0c3f",
   "metadata": {},
   "outputs": [],
   "source": [
    "printImg('RemoveBlue',img)"
   ]
  },
  {
   "cell_type": "code",
   "execution_count": 9,
   "id": "8da5281f-14fb-4d13-800f-94d06b2e8233",
   "metadata": {},
   "outputs": [],
   "source": [
    "blue = img[:,:,0]\n",
    "green = img[:,:,1]\n",
    "red = img[:,:,2]"
   ]
  },
  {
   "cell_type": "code",
   "execution_count": 10,
   "id": "c11561f4-759c-4588-99c5-c2ad24fca944",
   "metadata": {},
   "outputs": [],
   "source": [
    "new_img = np.hstack((blue,green,red))"
   ]
  },
  {
   "cell_type": "code",
   "execution_count": 11,
   "id": "86e0fa18-c0c9-4ca2-ad9a-631ee558337b",
   "metadata": {},
   "outputs": [
    {
     "data": {
      "text/plain": [
       "array([[224, 224, 224, ..., 216, 216, 215],\n",
       "       [224, 224, 224, ..., 216, 216, 216],\n",
       "       [224, 224, 224, ..., 219, 219, 218],\n",
       "       ...,\n",
       "       [213, 214, 213, ..., 219, 219, 219],\n",
       "       [212, 212, 212, ..., 219, 219, 219],\n",
       "       [211, 211, 213, ..., 219, 219, 219]], dtype=uint8)"
      ]
     },
     "execution_count": 11,
     "metadata": {},
     "output_type": "execute_result"
    }
   ],
   "source": [
    "new_img"
   ]
  },
  {
   "cell_type": "code",
   "execution_count": 12,
   "id": "ea9323da-9441-4f77-a5c5-60d1ab1a7df0",
   "metadata": {},
   "outputs": [],
   "source": [
    "printImg('diff',new_img)"
   ]
  },
  {
   "cell_type": "code",
   "execution_count": 13,
   "id": "c01ab71c-efa8-42c6-934d-d8118d6cd331",
   "metadata": {},
   "outputs": [],
   "source": [
    "# resize\n"
   ]
  },
  {
   "cell_type": "code",
   "execution_count": 17,
   "id": "657ed6ab-5475-4580-b4f6-e2a2814f117e",
   "metadata": {},
   "outputs": [],
   "source": [
    "img_resize = cv2.resize(img,(img.shape[1]//2,img.shape[0]//2))\n",
    "printImg('resize',img_resize)"
   ]
  },
  {
   "cell_type": "code",
   "execution_count": 18,
   "id": "2984f584-28f1-428f-bc06-9d4961c6cba8",
   "metadata": {},
   "outputs": [],
   "source": [
    "# flip images"
   ]
  },
  {
   "cell_type": "code",
   "execution_count": 23,
   "id": "a9a32d48-c686-4b6a-b8df-8b7e23f822db",
   "metadata": {},
   "outputs": [],
   "source": [
    "img_flip = cv2.flip(img,-1)\n",
    "printImg('flip',img_flip)"
   ]
  },
  {
   "cell_type": "code",
   "execution_count": 28,
   "id": "f6e71675-0899-4b64-8a35-2a35da03cacd",
   "metadata": {},
   "outputs": [],
   "source": [
    "# Cropping\n",
    "img_crop = img[50:200,80:500]\n",
    "printImg('crop',img_crop)"
   ]
  },
  {
   "cell_type": "code",
   "execution_count": 29,
   "id": "54da714a-4778-46d6-8e6d-d9c3dbc3d662",
   "metadata": {},
   "outputs": [
    {
     "data": {
      "text/plain": [
       "True"
      ]
     },
     "execution_count": 29,
     "metadata": {},
     "output_type": "execute_result"
    }
   ],
   "source": [
    "#Save img\n",
    "cv2.imwrite('fruitssmall.png',img_crop)"
   ]
  },
  {
   "cell_type": "code",
   "execution_count": 30,
   "id": "3391b986-2b6c-4908-ae6c-e51c4d65a0cb",
   "metadata": {},
   "outputs": [],
   "source": [
    "# draw img(rect circle)"
   ]
  },
  {
   "cell_type": "code",
   "execution_count": 31,
   "id": "32ddc4e5-1543-423f-bab1-2865acf000a3",
   "metadata": {},
   "outputs": [],
   "source": [
    "img = np.zeros(((512,512,3)))"
   ]
  },
  {
   "cell_type": "code",
   "execution_count": 32,
   "id": "dc8581a9-2ef8-40d1-8479-e5fa9b4cf070",
   "metadata": {},
   "outputs": [],
   "source": [
    "printImg('black',img)"
   ]
  },
  {
   "cell_type": "code",
   "execution_count": 35,
   "id": "b1dbf931-e7b3-4dac-8f41-83a7abb9e822",
   "metadata": {},
   "outputs": [],
   "source": [
    "#rectange\n",
    "cv2.rectangle(img,pt1=(100,100),pt2=(300,300),color=(255,0,0),thickness=2)\n",
    "printImg('rectangle',img)"
   ]
  },
  {
   "cell_type": "code",
   "execution_count": 36,
   "id": "191af25a-457f-45e9-9db2-d656c3bec5ff",
   "metadata": {},
   "outputs": [],
   "source": [
    "#circle\n",
    "cv2.circle(img,center=(100,400),radius=40,color=(0,0,255),thickness=3)\n",
    "printImg('circlr',img)"
   ]
  },
  {
   "cell_type": "code",
   "execution_count": 38,
   "id": "0c752567-1db6-4417-9ccc-6d523086c8af",
   "metadata": {},
   "outputs": [],
   "source": [
    "#line\n",
    "cv2.line(img,pt1=(0,0),pt2=(512,512),color=(0,255,0),thickness=2)\n",
    "printImg('line',img)"
   ]
  },
  {
   "cell_type": "code",
   "execution_count": 42,
   "id": "03dcc296-e623-453e-beb1-52e213f136c2",
   "metadata": {},
   "outputs": [],
   "source": [
    "#add text\n",
    "cv2.putText(img,org=(100,100),fontScale=2,color=(0,255,255),thickness=2,lineType=cv2.LINE_AA,text='hello',fontFace=cv2.FONT_HERSHEY_COMPLEX)\n",
    "printImg('text',img)\n"
   ]
  },
  {
   "cell_type": "code",
   "execution_count": null,
   "id": "530318d3-9cb5-417e-bc76-ece0750d069e",
   "metadata": {},
   "outputs": [],
   "source": []
  }
 ],
 "metadata": {
  "kernelspec": {
   "display_name": "Python 3 (ipykernel)",
   "language": "python",
   "name": "python3"
  },
  "language_info": {
   "codemirror_mode": {
    "name": "ipython",
    "version": 3
   },
   "file_extension": ".py",
   "mimetype": "text/x-python",
   "name": "python",
   "nbconvert_exporter": "python",
   "pygments_lexer": "ipython3",
   "version": "3.12.4"
  }
 },
 "nbformat": 4,
 "nbformat_minor": 5
}
