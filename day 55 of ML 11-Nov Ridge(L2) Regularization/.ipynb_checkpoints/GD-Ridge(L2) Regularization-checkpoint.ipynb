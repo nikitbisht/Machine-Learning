{
 "cells": [
  {
   "cell_type": "code",
   "execution_count": 3,
   "id": "2ea60dd5-b33e-453c-b0b2-ea3838224ea7",
   "metadata": {},
   "outputs": [],
   "source": [
    "import numpy as np\n",
    "import pandas as pd\n",
    "import matplotlib.pyplot as plt"
   ]
  },
  {
   "cell_type": "code",
   "execution_count": 4,
   "id": "a67b1cd9-1c12-4a10-9aa5-087fe45bfd74",
   "metadata": {},
   "outputs": [],
   "source": [
    "from sklearn.datasets import load_diabetes\n",
    "\n",
    "data = load_diabetes()"
   ]
  },
  {
   "cell_type": "code",
   "execution_count": 5,
   "id": "39a0606c-0fa6-460a-926c-f0874acb827a",
   "metadata": {},
   "outputs": [],
   "source": [
    "X = data.data\n",
    "y = data.target"
   ]
  },
  {
   "cell_type": "code",
   "execution_count": 6,
   "id": "a3d9e835-703f-44f8-8bb3-c952a5513570",
   "metadata": {},
   "outputs": [],
   "source": [
    "from sklearn.model_selection import train_test_split\n",
    "X_train,X_test,y_train,y_test = train_test_split(X,y,test_size=0.2,random_state = 4)"
   ]
  },
  {
   "cell_type": "code",
   "execution_count": 9,
   "id": "e487aa75-5f19-4515-9101-d1afa8d2d807",
   "metadata": {},
   "outputs": [],
   "source": [
    "from sklearn.linear_model import SGDRegressor\n",
    "reg = SGDRegressor(penalty='l2',max_iter=500, eta0=0.1, learning_rate='constant',alpha=0.001)"
   ]
  },
  {
   "cell_type": "code",
   "execution_count": 36,
   "id": "8abd1eec-88b3-4946-9a4a-d5ddcb5b34af",
   "metadata": {},
   "outputs": [],
   "source": [
    "from sklearn.metrics import r2_score"
   ]
  },
  {
   "cell_type": "code",
   "execution_count": 14,
   "id": "88b13785-baa2-48ce-9ce0-fa55939811a8",
   "metadata": {},
   "outputs": [
    {
     "name": "stdout",
     "output_type": "stream",
     "text": [
      "R2_Score 0.45930945160677095\n",
      "[  54.84546735 -154.71089245  368.23427328  274.31433693   -4.49057437\n",
      "  -57.22688883 -171.35229498  138.79716105  332.99713869   98.40965907]\n",
      "[153.83630243]\n"
     ]
    }
   ],
   "source": [
    "reg.fit(X_train,y_train)\n",
    "\n",
    "y_pred = reg.predict(X_test)\n",
    "print('R2_Score',r2_score(y_test,y_pred))\n",
    "print(reg.coef_)\n",
    "print(reg.intercept_)"
   ]
  },
  {
   "cell_type": "code",
   "execution_count": 15,
   "id": "8a7bebf9-dcb0-48e0-8aae-0f7214c06a2a",
   "metadata": {},
   "outputs": [],
   "source": [
    "from sklearn.linear_model import Ridge\n",
    "rig = Ridge(alpha=0.001,max_iter=500,solver='sparse_cg')"
   ]
  },
  {
   "cell_type": "code",
   "execution_count": 17,
   "id": "5d79bb5d-8896-40fe-adb4-f7fbe30b93b4",
   "metadata": {},
   "outputs": [
    {
     "name": "stdout",
     "output_type": "stream",
     "text": [
      "R2_Score 0.46250101621700934\n",
      "[  34.52193742 -290.84083028  482.40183036  368.0678821  -852.44871338\n",
      "  501.59162167  180.11114184  270.76336352  759.73536569   37.49137179]\n",
      "151.10198521609075\n"
     ]
    }
   ],
   "source": [
    "rig.fit(X_train,y_train)\n",
    "\n",
    "y_pred = rig.predict(X_test)\n",
    "print('R2_Score',r2_score(y_test,y_pred))\n",
    "print(rig.coef_)\n",
    "print(rig.intercept_)"
   ]
  },
  {
   "cell_type": "code",
   "execution_count": null,
   "id": "dc1bbd37-39fa-4f38-8b55-7f94667b6e19",
   "metadata": {},
   "outputs": [],
   "source": []
  },
  {
   "cell_type": "code",
   "execution_count": 59,
   "id": "c06b33c4-8ffc-4cb7-a01b-fdb13b68f5d4",
   "metadata": {},
   "outputs": [],
   "source": [
    "class MeraRidgeGD:\n",
    "    def __init__(self,epochs,learning_rate,alpha):\n",
    "        self.epochs = epochs\n",
    "        self.learning_rate = learning_rate\n",
    "        self.alpha = alpha\n",
    "        self.coef_ = None\n",
    "        self.intercept_ = None\n",
    "\n",
    "    def fit(self,X_train,y_train):\n",
    "        self.coef_ = np.ones(X_train.shape[1])\n",
    "        self.intercept_ = 0\n",
    "\n",
    "        thetha = np.insert(self.coef_,0,self.intercept_)\n",
    "        X_train = np.insert(X_train, 0,1, axis=1)\n",
    "        \n",
    "        for i in range(self.epochs):\n",
    "            thetha_der = np.dot(X_train.T,X_train).dot(thetha) - np.dot(X_train.T,y_train) - self.alpha*thetha\n",
    "            thetha = thetha - self.learning_rate * thetha_der\n",
    "\n",
    "        self.coef_ = thetha[1:]\n",
    "        self.intercept_ = thetha[0]\n",
    "\n",
    "    def predict(self,X_test):\n",
    "        return np.dot(X_test,self.coef_) + self.intercept_"
   ]
  },
  {
   "cell_type": "code",
   "execution_count": 60,
   "id": "2268e0be-c7b7-4f94-b3db-b1987d4e3bee",
   "metadata": {},
   "outputs": [],
   "source": [
    "reg = MeraRidgeGD(epochs=500,alpha=0.001,learning_rate=0.005)"
   ]
  },
  {
   "cell_type": "code",
   "execution_count": 61,
   "id": "d62fd097-8018-4464-b362-2174e90234de",
   "metadata": {},
   "outputs": [
    {
     "name": "stdout",
     "output_type": "stream",
     "text": [
      "R2_Score 0.47386561446278785\n",
      "[  46.62140947 -221.88627741  452.72916665  325.94986339  -29.28550185\n",
      "  -96.76767049 -191.05382527  146.37675246  401.31596569   95.03232584]\n",
      "150.86907936929472\n"
     ]
    }
   ],
   "source": [
    "reg.fit(X_train,y_train)\n",
    "y_pred = reg.predict(X_test)\n",
    "\n",
    "print(\"R2_Score\",r2_score(y_test,y_pred))\n",
    "print(reg.coef_)\n",
    "print(reg.intercept_)"
   ]
  },
  {
   "cell_type": "code",
   "execution_count": null,
   "id": "79b708ea-6cb5-4b11-9313-00d0b41d915a",
   "metadata": {},
   "outputs": [],
   "source": []
  }
 ],
 "metadata": {
  "kernelspec": {
   "display_name": "Python 3 (ipykernel)",
   "language": "python",
   "name": "python3"
  },
  "language_info": {
   "codemirror_mode": {
    "name": "ipython",
    "version": 3
   },
   "file_extension": ".py",
   "mimetype": "text/x-python",
   "name": "python",
   "nbconvert_exporter": "python",
   "pygments_lexer": "ipython3",
   "version": "3.12.4"
  }
 },
 "nbformat": 4,
 "nbformat_minor": 5
}
